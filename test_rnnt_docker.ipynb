{
 "cells": [
  {
   "cell_type": "code",
   "execution_count": 1,
   "metadata": {},
   "outputs": [],
   "source": [
    "import tensorflow as tf\n",
    "import numpy as np\n",
    "import data\n",
    "import model\n",
    "import copy\n",
    "from IPython.display import clear_output\n",
    "import os\n",
    "tf.multiply(2,3)\n",
    "clear_output()\n",
    "from model import Encoder, Predictor, Joiner, vocab\n",
    "from data import DataWarAndPeace\n",
    "# import warprnnt_tensorflow"
   ]
  },
  {
   "cell_type": "code",
   "execution_count": 3,
   "metadata": {},
   "outputs": [
    {
     "name": "stdout",
     "output_type": "stream",
     "text": [
      "(4, 71)\n",
      "(4, 74)\n",
      "tf.Tensor([48 50 52 49], shape=(4,), dtype=int32)\n",
      "tf.Tensor([69 71 72 72], shape=(4,), dtype=int32)\n",
      "(4, 71) (4, 74) (4,) (4,)\n",
      "Test Encoder:  (4, 71, 64)\n",
      "Test Predictor:  (4, 75, 64)\n",
      "log_probs shape: (4, 71, 75, 102), labels shape: (4, 74)\n",
      "Test Encoder:  (4, 71, 64)\n",
      "Test Predictor:  (4, 75, 64)\n",
      "log_probs shape: (4, 71, 75, 102), labels shape: (4, 74)\n",
      "Test Encoder:  (4, 71, 64)\n",
      "Test Predictor:  (4, 75, 64)\n",
      "log_probs shape: (4, 71, 75, 102), labels shape: (4, 74)\n",
      "Test Encoder:  (4, 71, 64)\n",
      "Test Predictor:  (4, 75, 64)\n",
      "log_probs shape: (4, 71, 75, 102), labels shape: (4, 74)\n",
      "3\n"
     ]
    }
   ],
   "source": [
    "file_path = \"/home/adminvbdi/Desktop/RNNT-for-Vowel-Complete/data/war_and_peace.txt\"\n",
    "data = DataWarAndPeace(file_path)\n",
    "train_data, test_data = data.train_data, data.test_data\n",
    "for i in train_data.take(1):\n",
    "    print(i[0].shape)\n",
    "    print(i[1].shape)\n",
    "    print(i[2])\n",
    "    print(i[3])\n",
    "\n",
    "x = copy.deepcopy(i[0])\n",
    "y = copy.deepcopy(i[1])\n",
    "input_lengths = copy.deepcopy(i[2])\n",
    "output_lengths = copy.deepcopy(i[3])\n",
    "\n",
    "\n",
    "print(x.shape, y.shape, input_lengths.shape, output_lengths.shape)\n",
    "\n",
    "for count, batch_data in enumerate(train_data):\n",
    "\n",
    "    x, y = batch_data[0], batch_data[1]\n",
    "    input_lengths = batch_data[2]\n",
    "    output_lengths = batch_data[3]\n",
    "\n",
    "\n",
    "    # test encoder\n",
    "    num_inputs = len(vocab)+1\n",
    "    encoder_dim = 64\n",
    "    encoder = Encoder(num_inputs, encoder_dim)\n",
    "    testEnc = encoder(x)\n",
    "    print(\"Test Encoder: \", testEnc.shape)\n",
    "\n",
    "    # Test Predictor\n",
    "    num_outputs = len(vocab)+1\n",
    "    predictor_dim = 64\n",
    "    joiner_dim = 64\n",
    "    predictor = Predictor(num_outputs, predictor_dim, joiner_dim, 0)\n",
    "    testPred = predictor(y)\n",
    "    print(\"Test Predictor: \", testPred.shape)\n",
    "\n",
    "    # Test Joiner\n",
    "    joiner = Joiner(71, 74, num_outputs)\n",
    "    testJoin = joiner([testEnc, testPred])\n",
    "    print_text = \"log_probs shape: {}, labels shape: {}\".format(testJoin.shape, y.shape)\n",
    "    print(print_text)\n",
    "\n",
    "    testJoin = tf.nn.softmax(testJoin)\n",
    "\n",
    "\n",
    "    if count == 3:\n",
    "        print(count)\n",
    "        break\n",
    "\n",
    "\n",
    "\n",
    "\n"
   ]
  },
  {
   "cell_type": "code",
   "execution_count": null,
   "metadata": {},
   "outputs": [],
   "source": []
  }
 ],
 "metadata": {
  "kernelspec": {
   "display_name": "vf_oi",
   "language": "python",
   "name": "python3"
  },
  "language_info": {
   "codemirror_mode": {
    "name": "ipython",
    "version": 3
   },
   "file_extension": ".py",
   "mimetype": "text/x-python",
   "name": "python",
   "nbconvert_exporter": "python",
   "pygments_lexer": "ipython3",
   "version": "3.7.15"
  },
  "orig_nbformat": 4,
  "vscode": {
   "interpreter": {
    "hash": "64b91457260961f019ea76bfc8ff149d72d4eae55dbde51c139b33b865bab8db"
   }
  }
 },
 "nbformat": 4,
 "nbformat_minor": 2
}
